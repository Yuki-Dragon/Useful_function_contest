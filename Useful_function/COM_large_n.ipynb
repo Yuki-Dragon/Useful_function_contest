{
 "cells": [
  {
   "cell_type": "code",
   "execution_count": 2,
   "metadata": {},
   "outputs": [],
   "source": [
    "k = 1079\n",
    "n= 10203022"
   ]
  },
  {
   "cell_type": "code",
   "execution_count": 3,
   "metadata": {},
   "outputs": [
    {
     "name": "stdout",
     "output_type": "stream",
     "text": [
      "279139985\n"
     ]
    }
   ],
   "source": [
    "import numpy as np\n",
    "# n>10**9\n",
    "#\n",
    "MAX = 10**9+7\n",
    "MOD = 1000000007   # mod\n",
    "#\n",
    "\n",
    "\n",
    "fac_k= np.ones(k+1)\n",
    "finv= np.ones(k+1)\n",
    "inv= np.ones(k+1)\n",
    "\n",
    "#\n",
    "\n",
    "fac_k[0] = 1\n",
    "fac_k[1] = n\n",
    "finv[0] = finv[1] = 1\n",
    "inv[1] = 1\n",
    "for i in range(2,k+1):\n",
    "    fac_k[i] = fac_k[i - 1] * (n-i+1) % MOD\n",
    "    inv[i] = MOD - inv[MOD%i] * (MOD / i) % MOD\n",
    "    finv[i] = finv[i - 1] * inv[i] % MOD\n",
    "    i+=1\n",
    "\n",
    "#\n",
    "    \n",
    "    \n",
    "def COM(n, k):\n",
    "    if (n < k):\n",
    "        return 0\n",
    "    if (n < 0) | (k < 0):\n",
    "        return 0\n",
    "    return (fac_k[k] * finv[k] % MOD)\n",
    "\n",
    "\n",
    "\n",
    "print(int(COM(n, k)))"
   ]
  },
  {
   "cell_type": "code",
   "execution_count": null,
   "metadata": {},
   "outputs": [],
   "source": []
  }
 ],
 "metadata": {
  "kernelspec": {
   "display_name": "Python 3",
   "language": "python",
   "name": "python3"
  },
  "language_info": {
   "codemirror_mode": {
    "name": "ipython",
    "version": 3
   },
   "file_extension": ".py",
   "mimetype": "text/x-python",
   "name": "python",
   "nbconvert_exporter": "python",
   "pygments_lexer": "ipython3",
   "version": "3.7.4"
  }
 },
 "nbformat": 4,
 "nbformat_minor": 2
}
