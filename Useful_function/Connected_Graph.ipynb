{
 "cells": [
  {
   "cell_type": "code",
   "execution_count": 2,
   "metadata": {},
   "outputs": [
    {
     "ename": "NameError",
     "evalue": "name 'Graph' is not defined",
     "output_type": "error",
     "traceback": [
      "\u001b[0;31m---------------------------------------------------------------------------\u001b[0m",
      "\u001b[0;31mNameError\u001b[0m                                 Traceback (most recent call last)",
      "\u001b[0;32m<ipython-input-2-adbc9fde4a98>\u001b[0m in \u001b[0;36m<module>\u001b[0;34m\u001b[0m\n\u001b[1;32m     48\u001b[0m         \u001b[0;31m# Create a graph given in the above diagram\u001b[0m\u001b[0;34m\u001b[0m\u001b[0;34m\u001b[0m\u001b[0;34m\u001b[0m\u001b[0m\n\u001b[1;32m     49\u001b[0m         \u001b[0;31m# 5 vertices numbered from 0 to 4\u001b[0m\u001b[0;34m\u001b[0m\u001b[0;34m\u001b[0m\u001b[0;34m\u001b[0m\u001b[0m\n\u001b[0;32m---> 50\u001b[0;31m         \u001b[0mg\u001b[0m \u001b[0;34m=\u001b[0m \u001b[0mGraph\u001b[0m\u001b[0;34m(\u001b[0m\u001b[0;36m5\u001b[0m\u001b[0;34m)\u001b[0m\u001b[0;34m;\u001b[0m\u001b[0;34m\u001b[0m\u001b[0;34m\u001b[0m\u001b[0m\n\u001b[0m\u001b[1;32m     51\u001b[0m         \u001b[0mg\u001b[0m\u001b[0;34m.\u001b[0m\u001b[0maddEdge\u001b[0m\u001b[0;34m(\u001b[0m\u001b[0;36m1\u001b[0m\u001b[0;34m,\u001b[0m \u001b[0;36m0\u001b[0m\u001b[0;34m)\u001b[0m\u001b[0;34m\u001b[0m\u001b[0;34m\u001b[0m\u001b[0m\n\u001b[1;32m     52\u001b[0m         \u001b[0mg\u001b[0m\u001b[0;34m.\u001b[0m\u001b[0maddEdge\u001b[0m\u001b[0;34m(\u001b[0m\u001b[0;36m2\u001b[0m\u001b[0;34m,\u001b[0m \u001b[0;36m3\u001b[0m\u001b[0;34m)\u001b[0m\u001b[0;34m\u001b[0m\u001b[0;34m\u001b[0m\u001b[0m\n",
      "\u001b[0;31mNameError\u001b[0m: name 'Graph' is not defined"
     ]
    }
   ],
   "source": [
    "# Python program to print connected \n",
    "# components in an undirected graph \n",
    "class Connected_Graph: \n",
    "\t\n",
    "\t# init function to declare class variables \n",
    "\tdef __init__(self,V): \n",
    "\t\tself.V = V \n",
    "\t\tself.adj = [[] for i in range(V)] \n",
    "\n",
    "\tdef DFSUtil(self, temp, v, visited): \n",
    "\n",
    "\t\t# Mark the current vertex as visited \n",
    "\t\tvisited[v] = True\n",
    "\n",
    "\t\t# Store the vertex to list \n",
    "\t\ttemp.append(v) \n",
    "\n",
    "\t\t# Repeat for all vertices adjacent \n",
    "\t\t# to this vertex v \n",
    "\t\tfor i in self.adj[v]: \n",
    "\t\t\tif visited[i] == False: \n",
    "\t\t\t\t\n",
    "\t\t\t\t# Update the list \n",
    "\t\t\t\ttemp = self.DFSUtil(temp, i, visited) \n",
    "\t\treturn temp \n",
    "\n",
    "\t# method to add an undirected edge \n",
    "\tdef addEdge(self, v, w): \n",
    "\t\tself.adj[v].append(w) \n",
    "\t\tself.adj[w].append(v) \n",
    "\n",
    "\t# Method to retrieve connected components \n",
    "\t# in an undirected graph \n",
    "\tdef connectedComponents(self): \n",
    "\t\tvisited = [] \n",
    "\t\tcc = [] \n",
    "\t\tfor i in range(self.V): \n",
    "\t\t\tvisited.append(False) \n",
    "\t\tfor v in range(self.V): \n",
    "\t\t\tif visited[v] == False: \n",
    "\t\t\t\ttemp = [] \n",
    "\t\t\t\tcc.append(self.DFSUtil(temp, v, visited)) \n",
    "\t\treturn cc \n",
    "\n",
    "\n",
    "\n",
    "\t\n",
    "\t# Create a graph given in the above diagram \n",
    "\t# 5 vertices numbered from 0 to 4 \n",
    "\t#g = Graph(5); \n",
    "\t#g.addEdge(1, 0) \n",
    "\t#g.addEdge(2, 3) \n",
    "\t#g.addEdge(3, 4) \n",
    "\t#cc = g.connectedComponents() \n",
    "\t#print(\"Following are connected components\") \n",
    "\t#print(cc) \n"
   ]
  },
  {
   "cell_type": "code",
   "execution_count": null,
   "metadata": {},
   "outputs": [],
   "source": []
  }
 ],
 "metadata": {
  "kernelspec": {
   "display_name": "Python 3",
   "language": "python",
   "name": "python3"
  },
  "language_info": {
   "codemirror_mode": {
    "name": "ipython",
    "version": 3
   },
   "file_extension": ".py",
   "mimetype": "text/x-python",
   "name": "python",
   "nbconvert_exporter": "python",
   "pygments_lexer": "ipython3",
   "version": "3.7.4"
  }
 },
 "nbformat": 4,
 "nbformat_minor": 2
}
