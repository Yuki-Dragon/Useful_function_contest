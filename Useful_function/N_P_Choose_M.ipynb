{
 "cells": [
  {
   "cell_type": "code",
   "execution_count": 20,
   "metadata": {},
   "outputs": [],
   "source": [
    "import numpy as np\n",
    "import math"
   ]
  },
  {
   "cell_type": "code",
   "execution_count": 24,
   "metadata": {},
   "outputs": [],
   "source": [
    "def N_P_Choose_M (N, M, vector):\n",
    "    N = np.array(N)\n",
    "    M = np.array(M)\n",
    "    vector = np.array(vector)\n",
    "    count = 1\n",
    "    N_dummy = N\n",
    "    \n",
    "    \n",
    "    if N == vector.sum():\n",
    "        for i in range(0,M):\n",
    "            if i > 0:\n",
    "                N_dummy = N_dummy - vector[i-1]\n",
    "            count = count * (math.factorial(N_dummy)/(math.factorial(vector[i]) * math.factorial(N_dummy - vector[i])))\n",
    "        \n",
    "        \n",
    "        \n",
    "        \n",
    "        \n",
    "        \n",
    "        \n",
    "    else:\n",
    "        print(\"error\")\n",
    "    \n",
    "    count = int(count)\n",
    "        \n",
    "    return count"
   ]
  },
  {
   "cell_type": "code",
   "execution_count": null,
   "metadata": {},
   "outputs": [],
   "source": []
  }
 ],
 "metadata": {
  "kernelspec": {
   "display_name": "Python 3",
   "language": "python",
   "name": "python3"
  },
  "language_info": {
   "codemirror_mode": {
    "name": "ipython",
    "version": 3
   },
   "file_extension": ".py",
   "mimetype": "text/x-python",
   "name": "python",
   "nbconvert_exporter": "python",
   "pygments_lexer": "ipython3",
   "version": "3.7.4"
  }
 },
 "nbformat": 4,
 "nbformat_minor": 2
}
