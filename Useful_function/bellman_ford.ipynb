{
 "cells": [
  {
   "cell_type": "code",
   "execution_count": 3,
   "metadata": {},
   "outputs": [
    {
     "name": "stdout",
     "output_type": "stream",
     "text": [
      "Vertex Distance from Source\n",
      " 0 \t\t  0\n",
      " 1 \t\t -1\n",
      " 2 \t\t  2\n",
      " 3 \t\t -2\n",
      " 4 \t\t  1\n"
     ]
    }
   ],
   "source": [
    "# Python program for Bellman-Ford's single source \n",
    "# shortest path algorithm. \n",
    "\n",
    "from collections import defaultdict \n",
    "\n",
    "# Class to represent a graph \n",
    "class Graph: \n",
    "\n",
    "\tdef __init__(self, vertices): \n",
    "\t\tself.V = vertices # No. of vertices \n",
    "\t\tself.graph = [] # default dictionary to store graph \n",
    "\n",
    "\t# function to add an edge to graph \n",
    "\tdef addEdge(self, u, v, w): \n",
    "\t\tself.graph.append([u, v, w]) \n",
    "\t\t\n",
    "\t# utility function used to print the solution \n",
    "\tdef printArr(self, dist): \n",
    "\t\tprint(\"Vertex Distance from Source\") \n",
    "\t\tfor i in range(self.V): \n",
    "\t\t\tprint(\"% d \\t\\t % d\" % (i, dist[i])) \n",
    "\t\n",
    "\t# The main function that finds shortest distances from src to \n",
    "\t# all other vertices using Bellman-Ford algorithm. The function \n",
    "\t# also detects negative weight cycle \n",
    "\tdef BellmanFord(self, src): \n",
    "\n",
    "\t\t# Step 1: Initialize distances from src to all other vertices \n",
    "\t\t# as INFINITE \n",
    "\t\tdist = [float(\"Inf\")] * self.V \n",
    "\t\tdist[src] = 0\n",
    "\n",
    "\n",
    "\t\t# Step 2: Relax all edges |V| - 1 times. A simple shortest \n",
    "\t\t# path from src to any other vertex can have at-most |V| - 1 \n",
    "\t\t# edges \n",
    "\t\tfor i in range(self.V - 1): \n",
    "\t\t\t# Update dist value and parent index of the adjacent vertices of \n",
    "\t\t\t# the picked vertex. Consider only those vertices which are still in \n",
    "\t\t\t# queue \n",
    "\t\t\tfor u, v, w in self.graph: \n",
    "\t\t\t\tif dist[u] != float(\"Inf\") and dist[u] + w < dist[v]: \n",
    "\t\t\t\t\t\tdist[v] = dist[u] + w \n",
    "\n",
    "\t\t# Step 3: check for negative-weight cycles. The above step \n",
    "\t\t# guarantees shortest distances if graph doesn't contain \n",
    "\t\t# negative weight cycle. If we get a shorter path, then there \n",
    "\t\t# is a cycle. \n",
    "\n",
    "\t\tfor u, v, w in self.graph: \n",
    "\t\t\t\tif dist[u] != float(\"Inf\") and dist[u] + w < dist[v]: \n",
    "\t\t\t\t\t\tprint (\"Graph contains negative weight cycle\")\n",
    "\t\t\t\t\t\treturn\n",
    "\t\t\t\t\t\t\n",
    "\t\t# print all distance \n",
    "\t\tself.printArr(dist) \n",
    "\n",
    "g = Graph(5) \n",
    "g.addEdge(0, 1, -1) \n",
    "g.addEdge(0, 2, 4) \n",
    "g.addEdge(1, 2, 3) \n",
    "g.addEdge(1, 3, 2) \n",
    "g.addEdge(1, 4, 2) \n",
    "g.addEdge(3, 2, 5) \n",
    "g.addEdge(3, 1, 1) \n",
    "g.addEdge(4, 3, -3) \n",
    "\n",
    "# Print the solution \n",
    "g.BellmanFord(0) \n",
    "\n",
    "# This code is contributed by Neelam Yadav \n"
   ]
  },
  {
   "cell_type": "code",
   "execution_count": null,
   "metadata": {},
   "outputs": [],
   "source": []
  }
 ],
 "metadata": {
  "kernelspec": {
   "display_name": "Python 3",
   "language": "python",
   "name": "python3"
  },
  "language_info": {
   "codemirror_mode": {
    "name": "ipython",
    "version": 3
   },
   "file_extension": ".py",
   "mimetype": "text/x-python",
   "name": "python",
   "nbconvert_exporter": "python",
   "pygments_lexer": "ipython3",
   "version": "3.7.4"
  }
 },
 "nbformat": 4,
 "nbformat_minor": 2
}
