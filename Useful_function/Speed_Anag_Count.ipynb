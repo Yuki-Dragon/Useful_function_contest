{
 "cells": [
  {
   "cell_type": "code",
   "execution_count": null,
   "metadata": {},
   "outputs": [],
   "source": [
    "def Speed_Anag_Count(String):\n",
    "    count = {}\n",
    "    for i in String:\n",
    "        i = sorted(i)\n",
    "        i = str(''.join(i))\n",
    "        if count.get(i) is None:\n",
    "            count[i] = 0\n",
    "        count[i] += 1\n",
    "    \n",
    "    return count\n",
    "\n",
    "N = int(input())\n",
    "\n",
    "S = [str(input()) for _ in range(N)]\n",
    "\n",
    "count = Speed_Anag_Count(S)\n",
    "\n",
    "ans=0\n",
    "for i in count.values():\n",
    "    ans += (i*(i-1)/2)\n",
    "    \n",
    "print(int(ans))\n",
    "    \n",
    "\n",
    "\n"
   ]
  }
 ],
 "metadata": {
  "kernelspec": {
   "display_name": "Python 3",
   "language": "python",
   "name": "python3"
  },
  "language_info": {
   "codemirror_mode": {
    "name": "ipython",
    "version": 3
   },
   "file_extension": ".py",
   "mimetype": "text/x-python",
   "name": "python",
   "nbconvert_exporter": "python",
   "pygments_lexer": "ipython3",
   "version": "3.7.4"
  }
 },
 "nbformat": 4,
 "nbformat_minor": 2
}
