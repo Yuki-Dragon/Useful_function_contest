{
 "cells": [
  {
   "cell_type": "code",
   "execution_count": 2,
   "metadata": {},
   "outputs": [],
   "source": [
    "# Python3 program to print DFS traversal \n",
    "# from a given given graph \n",
    "from collections import defaultdict \n",
    "\n",
    "# This class represents a directed graph using \n",
    "# adjacency list representation \n",
    "class DFS_Graph: \n",
    "\n",
    "\t# Constructor \n",
    "\tdef __init__(self): \n",
    "\n",
    "\t\t# default dictionary to store graph \n",
    "\t\tself.graph = defaultdict(list) \n",
    "\n",
    "\t# function to add an edge to graph \n",
    "\tdef addEdge(self, u, v): \n",
    "\t\tself.graph[u].append(v) \n",
    "\n",
    "\t# A function used by DFS \n",
    "\tdef DFSUtil(self, v, visited): \n",
    "\n",
    "\t\t# Mark the current node as visited \n",
    "\t\t# and print it \n",
    "\t\tvisited[v] = True\n",
    "\t\tprint(v, end = ' ') \n",
    "\n",
    "\t\t# Recur for all the vertices \n",
    "\t\t# adjacent to this vertex \n",
    "\t\tfor i in self.graph[v]: \n",
    "\t\t\tif visited[i] == False: \n",
    "\t\t\t\tself.DFSUtil(i, visited) \n",
    "\n",
    "\t# The function to do DFS traversal. It uses \n",
    "\t# recursive DFSUtil() \n",
    "\tdef DFS(self, v): \n",
    "\n",
    "\t\t# Mark all the vertices as not visited \n",
    "\t\tvisited = [False] * (len(self.graph)) \n",
    "\n",
    "\t\t# Call the recursive helper function \n",
    "\t\t# to print DFS traversal \n",
    "\t\tself.DFSUtil(v, visited) \n",
    "\n",
    "# Driver code \n",
    "\n",
    "## Example\n",
    "#g = Graph() \n",
    "#g.addEdge(0, 1) \n",
    "#g.addEdge(0, 2) \n",
    "#g.addEdge(1, 2) \n",
    "#g.addEdge(2, 0) \n",
    "#g.addEdge(2, 3) \n",
    "#g.addEdge(3, 3) \n",
    "\n",
    "#print(\"Following is DFS from (starting from vertex 2)\") \n",
    "#g.DFS(2) \n",
    "\n"
   ]
  },
  {
   "cell_type": "code",
   "execution_count": null,
   "metadata": {},
   "outputs": [],
   "source": []
  }
 ],
 "metadata": {
  "kernelspec": {
   "display_name": "Python 3",
   "language": "python",
   "name": "python3"
  },
  "language_info": {
   "codemirror_mode": {
    "name": "ipython",
    "version": 3
   },
   "file_extension": ".py",
   "mimetype": "text/x-python",
   "name": "python",
   "nbconvert_exporter": "python",
   "pygments_lexer": "ipython3",
   "version": "3.7.4"
  }
 },
 "nbformat": 4,
 "nbformat_minor": 2
}
