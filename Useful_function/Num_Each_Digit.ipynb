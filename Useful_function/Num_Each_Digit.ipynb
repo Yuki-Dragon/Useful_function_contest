{
 "cells": [
  {
   "cell_type": "code",
   "execution_count": 2,
   "metadata": {},
   "outputs": [],
   "source": [
    "import numpy as np\n",
    "import math"
   ]
  },
  {
   "cell_type": "code",
   "execution_count": 20,
   "metadata": {},
   "outputs": [],
   "source": [
    "def Num_Each_Digit(N,limit):\n",
    "    ans = np.array([])\n",
    "    \n",
    "    if N < 10**(limit):\n",
    "        for i in range(1,limit+1):\n",
    "            if (10**(i-1) > N):\n",
    "                break\n",
    "            if i == 1:\n",
    "                ans = np.append( ans, (N%(10**i)))\n",
    "            elif i > 1:\n",
    "                ans = np.append( ans, (N%(10**i)-N%(10**(i-1)))/(10**(i-1)))\n",
    "        ans = np.flip(ans)\n",
    "        return ans\n",
    "                \n",
    "    else:\n",
    "        print(\"too large\")\n",
    "        return N"
   ]
  }
 ],
 "metadata": {
  "kernelspec": {
   "display_name": "Python 3",
   "language": "python",
   "name": "python3"
  },
  "language_info": {
   "codemirror_mode": {
    "name": "ipython",
    "version": 3
   },
   "file_extension": ".py",
   "mimetype": "text/x-python",
   "name": "python",
   "nbconvert_exporter": "python",
   "pygments_lexer": "ipython3",
   "version": "3.7.4"
  }
 },
 "nbformat": 4,
 "nbformat_minor": 2
}
