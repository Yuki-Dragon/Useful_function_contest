{
 "cells": [
  {
   "cell_type": "code",
   "execution_count": 44,
   "metadata": {},
   "outputs": [],
   "source": [
    "# from djacent list to adjacent matrix\n",
    "# n,is dimenstion, Adj is n list\n",
    "# 0,1,2....n-1\n",
    "# Adj has the form \n",
    "#Adj[i] = [node,# of connected node, connected node #1, ....]\n",
    "\n",
    "import numpy as np\n",
    "\n",
    "def Directed_graph(n,Adj):\n",
    "    Adj_mat = np.zeros([n,n])\n",
    "    for i in range(n):\n",
    "        node = int(Adj[i][0])\n",
    "        for j in range(Adj[i][1]):\n",
    "            print(node)\n",
    "            Adj_mat[node,Adj[i][2+j]] =1\n",
    "            print(Adj_mat)\n",
    "            \n",
    "            \n",
    "    return Adj_mat\n",
    "        \n",
    "            "
   ]
  }
 ],
 "metadata": {
  "kernelspec": {
   "display_name": "Python 3",
   "language": "python",
   "name": "python3"
  },
  "language_info": {
   "codemirror_mode": {
    "name": "ipython",
    "version": 3
   },
   "file_extension": ".py",
   "mimetype": "text/x-python",
   "name": "python",
   "nbconvert_exporter": "python",
   "pygments_lexer": "ipython3",
   "version": "3.7.4"
  }
 },
 "nbformat": 4,
 "nbformat_minor": 2
}
