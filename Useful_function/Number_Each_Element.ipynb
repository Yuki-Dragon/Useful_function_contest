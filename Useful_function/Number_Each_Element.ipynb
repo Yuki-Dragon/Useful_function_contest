{
 "cells": [
  {
   "cell_type": "code",
   "execution_count": 1,
   "metadata": {},
   "outputs": [],
   "source": [
    "import numpy as np\n",
    "import math"
   ]
  },
  {
   "cell_type": "code",
   "execution_count": 38,
   "metadata": {},
   "outputs": [],
   "source": [
    "def Number_Each_Element(group):\n",
    "    group = sorted(group)\n",
    "    discrepancy = np.array([])\n",
    "    \n",
    "    for i in range(len(group)-1):\n",
    "        if group[i] != group[i+1]:\n",
    "            discrepancy = np.append(discrepancy,i)\n",
    "    discrepancy = np.append(discrepancy,len(group)-1)\n",
    "    \n",
    "    \n",
    "    result = np.ones(len(discrepancy))\n",
    "    for i in range(len(result)):\n",
    "        if i == 0:\n",
    "            result[i] = int(discrepancy[i]+1)\n",
    "        else:\n",
    "            result[i] = int(discrepancy[i]-discrepancy[i-1])\n",
    "            \n",
    "            \n",
    "    return result"
   ]
  }
 ],
 "metadata": {
  "kernelspec": {
   "display_name": "Python 3",
   "language": "python",
   "name": "python3"
  },
  "language_info": {
   "codemirror_mode": {
    "name": "ipython",
    "version": 3
   },
   "file_extension": ".py",
   "mimetype": "text/x-python",
   "name": "python",
   "nbconvert_exporter": "python",
   "pygments_lexer": "ipython3",
   "version": "3.7.4"
  }
 },
 "nbformat": 4,
 "nbformat_minor": 2
}
