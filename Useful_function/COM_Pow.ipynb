{
 "cells": [
  {
   "cell_type": "code",
   "execution_count": 7,
   "metadata": {},
   "outputs": [
    {
     "name": "stdout",
     "output_type": "stream",
     "text": [
      "314988816\n"
     ]
    }
   ],
   "source": [
    "import numpy as np\n",
    "# n,k, <10**7\n",
    "#\n",
    "MAX = 510000\n",
    "MOD = 1000000007   # mod\n",
    "#\n",
    "\n",
    "\n",
    "fac= np.ones(MAX)\n",
    "finv= np.ones(MAX)\n",
    "inv= np.ones(MAX)\n",
    "\n",
    "#\n",
    "\n",
    "fac[0] = fac[1] = 1\n",
    "finv[0] = finv[1] = 1\n",
    "inv[1] = 1\n",
    "for i in range(2,MAX):\n",
    "    fac[i] = fac[i - 1] * i % MOD\n",
    "    inv[i] = MOD - inv[MOD%i] * (MOD / i) % MOD\n",
    "    finv[i] = finv[i - 1] * inv[i] % MOD\n",
    "    i+=1\n",
    "\n",
    "#\n",
    "    \n",
    "    \n",
    "def COM(n, k):\n",
    "    if (n < k):\n",
    "        return 0\n",
    "    if (n < 0) | (k < 0):\n",
    "        return 0\n",
    "    return (fac[n] * (finv[k] * finv[n - k] % MOD) % MOD)\n",
    "\n",
    "\n",
    "\n"
   ]
  },
  {
   "cell_type": "code",
   "execution_count": null,
   "metadata": {},
   "outputs": [],
   "source": []
  }
 ],
 "metadata": {
  "kernelspec": {
   "display_name": "Python 3",
   "language": "python",
   "name": "python3"
  },
  "language_info": {
   "codemirror_mode": {
    "name": "ipython",
    "version": 3
   },
   "file_extension": ".py",
   "mimetype": "text/x-python",
   "name": "python",
   "nbconvert_exporter": "python",
   "pygments_lexer": "ipython3",
   "version": "3.7.4"
  }
 },
 "nbformat": 4,
 "nbformat_minor": 2
}
