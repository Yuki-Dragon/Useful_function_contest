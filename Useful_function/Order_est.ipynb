{
 "cells": [
  {
   "cell_type": "code",
   "execution_count": 8,
   "metadata": {},
   "outputs": [],
   "source": [
    "import numpy as np\n",
    "import math"
   ]
  },
  {
   "cell_type": "code",
   "execution_count": 49,
   "metadata": {},
   "outputs": [],
   "source": [
    "def Order_est(base, value):\n",
    "    base_dummy = base\n",
    "    value = float(value)\n",
    "    x=1\n",
    "    if base > value:\n",
    "        while base_dummy > value:\n",
    "            x -= 1\n",
    "            base_dummy = base**(x)\n",
    "            \n",
    "    elif base < value:\n",
    "        while base_dummy <= value:\n",
    "            x += 1\n",
    "            base_dummy = base**(x)\n",
    "        x -=1\n",
    "    elif base == value:\n",
    "        pass\n",
    "    else:\n",
    "        print(\"error\")\n",
    "            \n",
    "    return int(x)\n",
    "        "
   ]
  },
  {
   "cell_type": "code",
   "execution_count": null,
   "metadata": {},
   "outputs": [],
   "source": []
  }
 ],
 "metadata": {
  "kernelspec": {
   "display_name": "Python 3",
   "language": "python",
   "name": "python3"
  },
  "language_info": {
   "codemirror_mode": {
    "name": "ipython",
    "version": 3
   },
   "file_extension": ".py",
   "mimetype": "text/x-python",
   "name": "python",
   "nbconvert_exporter": "python",
   "pygments_lexer": "ipython3",
   "version": "3.7.4"
  }
 },
 "nbformat": 4,
 "nbformat_minor": 2
}
