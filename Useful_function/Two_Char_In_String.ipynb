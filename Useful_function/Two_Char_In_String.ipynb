{
 "cells": [
  {
   "cell_type": "code",
   "execution_count": null,
   "metadata": {},
   "outputs": [],
   "source": [
    "def Two_Char_In_String(a,b,s):\n",
    "    count=np.array([])\n",
    "    count_a = np.array([])\n",
    "    count_b = np.array([])\n",
    "    counting_a = 0\n",
    "    counting_b = 0\n",
    "    for i in range(len(s)-1):        \n",
    "        if s[i] == a:\n",
    "            counting_a +=1\n",
    "        elif s[i] == b:\n",
    "            counting_b +=1\n",
    "            \n",
    "        if (s[i] == a) & (s[i+1] == b):\n",
    "            count_a = np.append(count_a,counting_a)\n",
    "            counting_a =0\n",
    "            counting_b =0\n",
    "        elif (s[i] == b) & (s[i+1] == a):\n",
    "            count_b = np.append(count_b,counting_b)\n",
    "            counting_a =0\n",
    "            counting_b =0\n",
    "        \n",
    "    if s[-1] == a:\n",
    "        count_a[-1] +=1\n",
    "    else:\n",
    "        count_b[-1] +=1\n",
    "    \n",
    "    return count_a, count_b\n",
    "            "
   ]
  }
 ],
 "metadata": {
  "kernelspec": {
   "display_name": "Python 3",
   "language": "python",
   "name": "python3"
  },
  "language_info": {
   "codemirror_mode": {
    "name": "ipython",
    "version": 3
   },
   "file_extension": ".py",
   "mimetype": "text/x-python",
   "name": "python",
   "nbconvert_exporter": "python",
   "pygments_lexer": "ipython3",
   "version": "3.7.4"
  }
 },
 "nbformat": 4,
 "nbformat_minor": 2
}
